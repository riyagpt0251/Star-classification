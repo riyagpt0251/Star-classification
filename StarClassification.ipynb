{
  "nbformat": 4,
  "nbformat_minor": 0,
  "metadata": {
    "colab": {
      "provenance": [],
      "authorship_tag": "ABX9TyMv/tJ5tNEmB2gpeK3C6zpy",
      "include_colab_link": true
    },
    "kernelspec": {
      "name": "python3",
      "display_name": "Python 3"
    },
    "language_info": {
      "name": "python"
    }
  },
  "cells": [
    {
      "cell_type": "markdown",
      "metadata": {
        "id": "view-in-github",
        "colab_type": "text"
      },
      "source": [
        "<a href=\"https://colab.research.google.com/github/riyagpt0251/Star-classification/blob/main/StarClassification.ipynb\" target=\"_parent\"><img src=\"https://colab.research.google.com/assets/colab-badge.svg\" alt=\"Open In Colab\"/></a>"
      ]
    },
    {
      "cell_type": "markdown",
      "source": [
        "Import libraries"
      ],
      "metadata": {
        "id": "Ufkc2j09nRry"
      }
    },
    {
      "cell_type": "code",
      "source": [
        "import pandas as pd\n",
        "import numpy as np\n",
        "from sklearn.model_selection import train_test_split\n",
        "from sklearn.preprocessing import LabelEncoder, StandardScaler\n",
        "from sklearn.ensemble import RandomForestClassifier\n",
        "from sklearn.metrics import accuracy_score, classification_report, confusion_matrix\n",
        "import seaborn as sns\n",
        "import matplotlib.pyplot as plt\n"
      ],
      "metadata": {
        "id": "yn66oo1wnUE0"
      },
      "execution_count": 1,
      "outputs": []
    },
    {
      "cell_type": "markdown",
      "source": [
        "load the dataset"
      ],
      "metadata": {
        "id": "CyyrThOYndND"
      }
    },
    {
      "cell_type": "code",
      "source": [
        "# Load the dataset\n",
        "file_path = \"6 class csv.csv\"  # Replace with your file path\n",
        "df = pd.read_csv(file_path)\n",
        "\n",
        "# Display the first few rows\n",
        "print(df.head())\n"
      ],
      "metadata": {
        "colab": {
          "base_uri": "https://localhost:8080/"
        },
        "id": "ONmi77oBnf0a",
        "outputId": "bd7b5590-5f32-4dd5-d8d5-2201cc8cb7fe"
      },
      "execution_count": 2,
      "outputs": [
        {
          "output_type": "stream",
          "name": "stdout",
          "text": [
            "   Temperature (K)  Luminosity(L/Lo)  Radius(R/Ro)  Absolute magnitude(Mv)  \\\n",
            "0             3068          0.002400        0.1700                   16.12   \n",
            "1             3042          0.000500        0.1542                   16.60   \n",
            "2             2600          0.000300        0.1020                   18.70   \n",
            "3             2800          0.000200        0.1600                   16.65   \n",
            "4             1939          0.000138        0.1030                   20.06   \n",
            "\n",
            "   Star type Star color Spectral Class  \n",
            "0          0        Red              M  \n",
            "1          0        Red              M  \n",
            "2          0        Red              M  \n",
            "3          0        Red              M  \n",
            "4          0        Red              M  \n"
          ]
        }
      ]
    },
    {
      "cell_type": "markdown",
      "source": [
        "Data preprocessing"
      ],
      "metadata": {
        "id": "ogAlQpX8nuqB"
      }
    },
    {
      "cell_type": "code",
      "source": [
        "# Check for missing values\n",
        "print(df.isnull().sum())\n",
        "\n",
        "# Encode categorical columns (Star Color and Spectral Class)\n",
        "label_encoder_color = LabelEncoder()\n",
        "label_encoder_class = LabelEncoder()\n",
        "\n",
        "df['Star color'] = label_encoder_color.fit_transform(df['Star color'])\n",
        "df['Spectral Class'] = label_encoder_class.fit_transform(df['Spectral Class'])\n",
        "\n",
        "# Separate features (X) and target (y)\n",
        "X = df[['Temperature (K)', 'Luminosity(L/Lo)', 'Radius(R/Ro)', 'Absolute magnitude(Mv)',\n",
        "        'Star color', 'Spectral Class']]\n",
        "y = df['Star type']\n",
        "\n",
        "# Scale the features\n",
        "scaler = StandardScaler()\n",
        "X_scaled = scaler.fit_transform(X)\n"
      ],
      "metadata": {
        "colab": {
          "base_uri": "https://localhost:8080/"
        },
        "id": "WTPupShknxHy",
        "outputId": "ff1e55d4-e8b3-4ca3-fd20-3430525e12a5"
      },
      "execution_count": 6,
      "outputs": [
        {
          "output_type": "stream",
          "name": "stdout",
          "text": [
            "Temperature (K)           0\n",
            "Luminosity(L/Lo)          0\n",
            "Radius(R/Ro)              0\n",
            "Absolute magnitude(Mv)    0\n",
            "Star type                 0\n",
            "Star color                0\n",
            "Spectral Class            0\n",
            "dtype: int64\n"
          ]
        }
      ]
    },
    {
      "cell_type": "markdown",
      "source": [
        "Split the data"
      ],
      "metadata": {
        "id": "xmfUX_xXoFN9"
      }
    },
    {
      "cell_type": "code",
      "source": [
        "# Split the data into training and testing sets\n",
        "X_train, X_test, y_train, y_test = train_test_split(X_scaled, y, test_size=0.2, random_state=42)\n"
      ],
      "metadata": {
        "id": "8ZhJFcjDoJRh"
      },
      "execution_count": 7,
      "outputs": []
    },
    {
      "cell_type": "markdown",
      "source": [
        "Train the model"
      ],
      "metadata": {
        "id": "x5TX-AbqoM-u"
      }
    },
    {
      "cell_type": "code",
      "source": [
        "# Train a Random Forest Classifier\n",
        "model = RandomForestClassifier(n_estimators=100, random_state=42)\n",
        "model.fit(X_train, y_train)\n",
        "\n",
        "# Predict on the test set\n",
        "y_pred = model.predict(X_test)\n"
      ],
      "metadata": {
        "id": "F-PxUP5SoPAd"
      },
      "execution_count": 8,
      "outputs": []
    },
    {
      "cell_type": "markdown",
      "source": [
        "Evaluate the model"
      ],
      "metadata": {
        "id": "bNCxCD7NoS9G"
      }
    },
    {
      "cell_type": "code",
      "source": [
        "# Calculate accuracy\n",
        "accuracy = accuracy_score(y_test, y_pred)\n",
        "print(f\"Accuracy: {accuracy * 100:.2f}%\")\n",
        "\n",
        "# Classification report\n",
        "print(\"Classification Report:\")\n",
        "print(classification_report(y_test, y_pred))\n",
        "\n",
        "# Confusion matrix\n",
        "conf_matrix = confusion_matrix(y_test, y_pred)\n",
        "\n",
        "# Visualize confusion matrix\n",
        "sns.heatmap(conf_matrix, annot=True, cmap='Blues', fmt='d', xticklabels=np.unique(y), yticklabels=np.unique(y))\n",
        "plt.title(\"Confusion Matrix\")\n",
        "plt.xlabel(\"Predicted\")\n",
        "plt.ylabel(\"Actual\")\n",
        "plt.show()\n"
      ],
      "metadata": {
        "colab": {
          "base_uri": "https://localhost:8080/",
          "height": 744
        },
        "id": "yo_f8D4boU_3",
        "outputId": "696eb740-c344-4170-c475-1c52bda696b6"
      },
      "execution_count": 9,
      "outputs": [
        {
          "output_type": "stream",
          "name": "stdout",
          "text": [
            "Accuracy: 100.00%\n",
            "Classification Report:\n",
            "              precision    recall  f1-score   support\n",
            "\n",
            "           0       1.00      1.00      1.00         8\n",
            "           1       1.00      1.00      1.00         7\n",
            "           2       1.00      1.00      1.00         6\n",
            "           3       1.00      1.00      1.00         8\n",
            "           4       1.00      1.00      1.00         8\n",
            "           5       1.00      1.00      1.00        11\n",
            "\n",
            "    accuracy                           1.00        48\n",
            "   macro avg       1.00      1.00      1.00        48\n",
            "weighted avg       1.00      1.00      1.00        48\n",
            "\n"
          ]
        },
        {
          "output_type": "display_data",
          "data": {
            "text/plain": [
              "<Figure size 640x480 with 2 Axes>"
            ],
            "image/png": "[encoded data removed]"
          },
          "metadata": {}
        }
      ]
    },
    {
      "cell_type": "markdown",
      "source": [
        "Save the model"
      ],
      "metadata": {
        "id": "_aH8UMUeobST"
      }
    },
    {
      "cell_type": "code",
      "source": [
        "import pickle\n",
        "\n",
        "# Save the model and label encoders\n",
        "pickle.dump(model, open(\"star_classifier.pkl\", \"wb\"))\n",
        "pickle.dump(label_encoder_color, open(\"label_encoder_color.pkl\", \"wb\"))\n",
        "pickle.dump(label_encoder_class, open(\"label_encoder_class.pkl\", \"wb\"))\n"
      ],
      "metadata": {
        "id": "nSrc_rnoodB2"
      },
      "execution_count": 10,
      "outputs": []
    },
    {
      "cell_type": "markdown",
      "source": [
        "predict with a new star"
      ],
      "metadata": {
        "id": "d8oDA0pZohIp"
      }
    },
    {
      "cell_type": "code",
      "source": [
        "print(\"Star Color Classes:\", loaded_color_encoder.classes_)\n",
        "print(\"Spectral Class Classes:\", loaded_class_encoder.classes_)\n"
      ],
      "metadata": {
        "colab": {
          "base_uri": "https://localhost:8080/"
        },
        "id": "O_bXXytDp1VP",
        "outputId": "aff4cb1b-3291-44a0-c1ae-520261c8e771"
      },
      "execution_count": 17,
      "outputs": [
        {
          "output_type": "stream",
          "name": "stdout",
          "text": [
            "Star Color Classes: [ 0  1  2  3  4  5  6  7  8  9 10 11 12 13 14 15 16 17 18]\n",
            "Spectral Class Classes: [0 1 2 3 4 5 6]\n"
          ]
        }
      ]
    },
    {
      "cell_type": "code",
      "source": [
        "new_star_color_encoded = 1  # Replace with the correct numeric value for 'red'\n",
        "new_star_class_encoded = 5  # Replace with the correct numeric value for 'M'\n"
      ],
      "metadata": {
        "id": "CMhmo44up5Qi"
      },
      "execution_count": 18,
      "outputs": []
    },
    {
      "cell_type": "code",
      "source": [
        "# Example: Numeric input values directly (encoded)\n",
        "new_star_color_encoded = 1  # Replace with the numeric value for the desired color\n",
        "new_star_class_encoded = 5  # Replace with the numeric value for the desired spectral class\n",
        "\n",
        "# Define star features\n",
        "new_star = [[3000, 0.002, 0.15, 16, new_star_color_encoded, new_star_class_encoded]]\n",
        "\n",
        "# Scale the input\n",
        "from sklearn.preprocessing import StandardScaler\n",
        "scaler = StandardScaler()\n",
        "new_star_scaled = scaler.fit_transform(new_star)\n",
        "\n",
        "# Predict star type\n",
        "star_type_prediction = loaded_model.predict(new_star_scaled)\n",
        "print(f\"Predicted Star Type: {star_type_prediction[0]}\")\n"
      ],
      "metadata": {
        "colab": {
          "base_uri": "https://localhost:8080/"
        },
        "id": "raZIpYwep89s",
        "outputId": "147a52c9-304d-44a6-8ef4-d190a104c9b4"
      },
      "execution_count": 19,
      "outputs": [
        {
          "output_type": "stream",
          "name": "stdout",
          "text": [
            "Predicted Star Type: 4\n"
          ]
        }
      ]
    },
    {
      "cell_type": "code",
      "source": [
        "star_color_mapping = {'red': 1, 'blue': 2, 'yellow': 3}  # Example mappings\n",
        "spectral_class_mapping = {'M': 5, 'G': 3, 'K': 4}  # Example mappings\n",
        "\n",
        "new_star_color_encoded = star_color_mapping['red']\n",
        "new_star_class_encoded = spectral_class_mapping['M']\n"
      ],
      "metadata": {
        "id": "j5eaAnxrqCiC"
      },
      "execution_count": 22,
      "outputs": []
    }
  ]
}